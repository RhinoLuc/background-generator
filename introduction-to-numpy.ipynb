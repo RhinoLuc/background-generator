{
 "cells": [
  {
   "cell_type": "code",
   "execution_count": 123,
   "id": "a7867232",
   "metadata": {},
   "outputs": [],
   "source": [
    "import numpy as np"
   ]
  },
  {
   "cell_type": "markdown",
   "id": "4d0d61e7",
   "metadata": {},
   "source": [
    "## Datatypes & Attributes"
   ]
  },
  {
   "cell_type": "code",
   "execution_count": 124,
   "id": "68285d78",
   "metadata": {},
   "outputs": [
    {
     "data": {
      "text/plain": [
       "array([1, 2, 3])"
      ]
     },
     "execution_count": 124,
     "metadata": {},
     "output_type": "execute_result"
    }
   ],
   "source": [
    "# Numpy's main datatype is ndarray.\n",
    "a1 = np.array([1, 2, 3])\n",
    "a1"
   ]
  },
  {
   "cell_type": "code",
   "execution_count": 125,
   "id": "76305fd1",
   "metadata": {},
   "outputs": [
    {
     "data": {
      "text/plain": [
       "numpy.ndarray"
      ]
     },
     "execution_count": 125,
     "metadata": {},
     "output_type": "execute_result"
    }
   ],
   "source": [
    "type(a1)"
   ]
  },
  {
   "cell_type": "code",
   "execution_count": 126,
   "id": "33f34d4a",
   "metadata": {},
   "outputs": [],
   "source": [
    "a2 = np.array([[1, 2, 3.3],\n",
    "              [4, 5, 6.5]])\n",
    "\n",
    "a3 = np.array([[[1, 2, 3],\n",
    "               [4, 5, 6],\n",
    "               [7, 8, 9]],\n",
    "              [[10, 11, 12],\n",
    "              [13, 14, 15],\n",
    "              [16, 17, 18]]])"
   ]
  },
  {
   "cell_type": "code",
   "execution_count": 127,
   "id": "34203a51",
   "metadata": {},
   "outputs": [
    {
     "data": {
      "text/plain": [
       "array([[1. , 2. , 3.3],\n",
       "       [4. , 5. , 6.5]])"
      ]
     },
     "execution_count": 127,
     "metadata": {},
     "output_type": "execute_result"
    }
   ],
   "source": [
    "a2"
   ]
  },
  {
   "cell_type": "code",
   "execution_count": 128,
   "id": "2b46dd2d",
   "metadata": {},
   "outputs": [
    {
     "data": {
      "text/plain": [
       "array([[[ 1,  2,  3],\n",
       "        [ 4,  5,  6],\n",
       "        [ 7,  8,  9]],\n",
       "\n",
       "       [[10, 11, 12],\n",
       "        [13, 14, 15],\n",
       "        [16, 17, 18]]])"
      ]
     },
     "execution_count": 128,
     "metadata": {},
     "output_type": "execute_result"
    }
   ],
   "source": [
    "a3"
   ]
  },
  {
   "cell_type": "code",
   "execution_count": 129,
   "id": "e06f5835",
   "metadata": {},
   "outputs": [
    {
     "data": {
      "text/plain": [
       "(3,)"
      ]
     },
     "execution_count": 129,
     "metadata": {},
     "output_type": "execute_result"
    }
   ],
   "source": [
    "a1.shape"
   ]
  },
  {
   "cell_type": "code",
   "execution_count": 130,
   "id": "5351149d",
   "metadata": {},
   "outputs": [
    {
     "data": {
      "text/plain": [
       "(2, 3)"
      ]
     },
     "execution_count": 130,
     "metadata": {},
     "output_type": "execute_result"
    }
   ],
   "source": [
    "a2.shape\n"
   ]
  },
  {
   "cell_type": "code",
   "execution_count": 131,
   "id": "9b548916",
   "metadata": {},
   "outputs": [
    {
     "data": {
      "text/plain": [
       "(2, 3, 3)"
      ]
     },
     "execution_count": 131,
     "metadata": {},
     "output_type": "execute_result"
    }
   ],
   "source": [
    "a3.shape\n"
   ]
  },
  {
   "cell_type": "code",
   "execution_count": 132,
   "id": "cd53e9ee",
   "metadata": {},
   "outputs": [
    {
     "data": {
      "text/plain": [
       "(1, 2, 3)"
      ]
     },
     "execution_count": 132,
     "metadata": {},
     "output_type": "execute_result"
    }
   ],
   "source": [
    "a1.ndim, a2.ndim, a3.ndim"
   ]
  },
  {
   "cell_type": "code",
   "execution_count": 133,
   "id": "2cef2dab",
   "metadata": {},
   "outputs": [
    {
     "data": {
      "text/plain": [
       "(dtype('int32'), dtype('float64'), dtype('int32'))"
      ]
     },
     "execution_count": 133,
     "metadata": {},
     "output_type": "execute_result"
    }
   ],
   "source": [
    "a1.dtype, a2.dtype, a3.dtype"
   ]
  },
  {
   "cell_type": "code",
   "execution_count": 134,
   "id": "92db9dc6",
   "metadata": {},
   "outputs": [
    {
     "data": {
      "text/plain": [
       "(3, 6, 18)"
      ]
     },
     "execution_count": 134,
     "metadata": {},
     "output_type": "execute_result"
    }
   ],
   "source": [
    "a1.size, a2.size, a3.size\n"
   ]
  },
  {
   "cell_type": "code",
   "execution_count": 135,
   "id": "dce60087",
   "metadata": {},
   "outputs": [
    {
     "data": {
      "text/plain": [
       "(numpy.ndarray, numpy.ndarray, numpy.ndarray)"
      ]
     },
     "execution_count": 135,
     "metadata": {},
     "output_type": "execute_result"
    }
   ],
   "source": [
    "type(a1), type(a2), type(a3)"
   ]
  },
  {
   "cell_type": "code",
   "execution_count": 136,
   "id": "ee92f793",
   "metadata": {},
   "outputs": [
    {
     "data": {
      "text/html": [
       "<div>\n",
       "<style scoped>\n",
       "    .dataframe tbody tr th:only-of-type {\n",
       "        vertical-align: middle;\n",
       "    }\n",
       "\n",
       "    .dataframe tbody tr th {\n",
       "        vertical-align: top;\n",
       "    }\n",
       "\n",
       "    .dataframe thead th {\n",
       "        text-align: right;\n",
       "    }\n",
       "</style>\n",
       "<table border=\"1\" class=\"dataframe\">\n",
       "  <thead>\n",
       "    <tr style=\"text-align: right;\">\n",
       "      <th></th>\n",
       "      <th>0</th>\n",
       "      <th>1</th>\n",
       "      <th>2</th>\n",
       "    </tr>\n",
       "  </thead>\n",
       "  <tbody>\n",
       "    <tr>\n",
       "      <th>0</th>\n",
       "      <td>1.0</td>\n",
       "      <td>2.0</td>\n",
       "      <td>3.3</td>\n",
       "    </tr>\n",
       "    <tr>\n",
       "      <th>1</th>\n",
       "      <td>4.0</td>\n",
       "      <td>5.0</td>\n",
       "      <td>6.5</td>\n",
       "    </tr>\n",
       "  </tbody>\n",
       "</table>\n",
       "</div>"
      ],
      "text/plain": [
       "     0    1    2\n",
       "0  1.0  2.0  3.3\n",
       "1  4.0  5.0  6.5"
      ]
     },
     "execution_count": 136,
     "metadata": {},
     "output_type": "execute_result"
    }
   ],
   "source": [
    "#create a Dataframe from Numpy array\n",
    "import pandas as pd\n",
    "df = pd.DataFrame(a2)\n",
    "df"
   ]
  },
  {
   "cell_type": "markdown",
   "id": "652a4882",
   "metadata": {},
   "source": [
    "## Creating Numpy array"
   ]
  },
  {
   "cell_type": "code",
   "execution_count": 137,
   "id": "537fbf49",
   "metadata": {},
   "outputs": [
    {
     "data": {
      "text/plain": [
       "array([1, 2, 3])"
      ]
     },
     "execution_count": 137,
     "metadata": {},
     "output_type": "execute_result"
    }
   ],
   "source": [
    "sample_array = np.array([1, 2,3])\n",
    "sample_array"
   ]
  },
  {
   "cell_type": "code",
   "execution_count": 138,
   "id": "bd636c5c",
   "metadata": {},
   "outputs": [
    {
     "data": {
      "text/plain": [
       "dtype('int32')"
      ]
     },
     "execution_count": 138,
     "metadata": {},
     "output_type": "execute_result"
    }
   ],
   "source": [
    "sample_array.dtype"
   ]
  },
  {
   "cell_type": "code",
   "execution_count": 139,
   "id": "a097a2a2",
   "metadata": {},
   "outputs": [],
   "source": [
    "ones = np.ones((2,3))"
   ]
  },
  {
   "cell_type": "code",
   "execution_count": 140,
   "id": "8e4271c5",
   "metadata": {},
   "outputs": [
    {
     "data": {
      "text/plain": [
       "array([[1., 1., 1.],\n",
       "       [1., 1., 1.]])"
      ]
     },
     "execution_count": 140,
     "metadata": {},
     "output_type": "execute_result"
    }
   ],
   "source": [
    "ones"
   ]
  },
  {
   "cell_type": "code",
   "execution_count": 141,
   "id": "0effc638",
   "metadata": {},
   "outputs": [
    {
     "data": {
      "text/plain": [
       "dtype('float64')"
      ]
     },
     "execution_count": 141,
     "metadata": {},
     "output_type": "execute_result"
    }
   ],
   "source": [
    "ones.dtype\n"
   ]
  },
  {
   "cell_type": "code",
   "execution_count": 142,
   "id": "ec30b182",
   "metadata": {},
   "outputs": [
    {
     "data": {
      "text/plain": [
       "numpy.ndarray"
      ]
     },
     "execution_count": 142,
     "metadata": {},
     "output_type": "execute_result"
    }
   ],
   "source": [
    "type(ones)"
   ]
  },
  {
   "cell_type": "code",
   "execution_count": 143,
   "id": "7852a5d0",
   "metadata": {},
   "outputs": [],
   "source": [
    "zeros = np.zeros((2,3))"
   ]
  },
  {
   "cell_type": "code",
   "execution_count": 144,
   "id": "784621dc",
   "metadata": {},
   "outputs": [
    {
     "data": {
      "text/plain": [
       "array([[0., 0., 0.],\n",
       "       [0., 0., 0.]])"
      ]
     },
     "execution_count": 144,
     "metadata": {},
     "output_type": "execute_result"
    }
   ],
   "source": [
    "zeros\n"
   ]
  },
  {
   "cell_type": "code",
   "execution_count": 145,
   "id": "6df576e4",
   "metadata": {},
   "outputs": [
    {
     "data": {
      "text/plain": [
       "array([0, 2, 4, 6, 8])"
      ]
     },
     "execution_count": 145,
     "metadata": {},
     "output_type": "execute_result"
    }
   ],
   "source": [
    "range_array = np.arange(0,10,2)\n",
    "range_array"
   ]
  },
  {
   "cell_type": "code",
   "execution_count": 146,
   "id": "737e8b9b",
   "metadata": {},
   "outputs": [
    {
     "data": {
      "text/plain": [
       "array([[0, 5, 3, 0, 5],\n",
       "       [7, 1, 8, 4, 9],\n",
       "       [0, 2, 0, 7, 6]])"
      ]
     },
     "execution_count": 146,
     "metadata": {},
     "output_type": "execute_result"
    }
   ],
   "source": [
    "random_array = np.random.randint(0,10, size=(3,5))\n",
    "random_array"
   ]
  },
  {
   "cell_type": "code",
   "execution_count": 147,
   "id": "652c16f4",
   "metadata": {},
   "outputs": [
    {
     "data": {
      "text/plain": [
       "15"
      ]
     },
     "execution_count": 147,
     "metadata": {},
     "output_type": "execute_result"
    }
   ],
   "source": [
    "random_array.size"
   ]
  },
  {
   "cell_type": "code",
   "execution_count": 148,
   "id": "9c489a7d",
   "metadata": {},
   "outputs": [
    {
     "data": {
      "text/plain": [
       "(3, 5)"
      ]
     },
     "execution_count": 148,
     "metadata": {},
     "output_type": "execute_result"
    }
   ],
   "source": [
    "random_array.shape"
   ]
  },
  {
   "cell_type": "code",
   "execution_count": 149,
   "id": "8c1b2ea6",
   "metadata": {},
   "outputs": [],
   "source": [
    "random_array_2 = np.random.random((5,3))"
   ]
  },
  {
   "cell_type": "code",
   "execution_count": 150,
   "id": "7df3d5e2",
   "metadata": {},
   "outputs": [
    {
     "data": {
      "text/plain": [
       "array([[0.55054305, 0.52259111, 0.48755248],\n",
       "       [0.26303148, 0.52728579, 0.98446573],\n",
       "       [0.62342345, 0.62955693, 0.9099729 ],\n",
       "       [0.96251949, 0.5850998 , 0.16489774],\n",
       "       [0.39159332, 0.94455493, 0.34339118]])"
      ]
     },
     "execution_count": 150,
     "metadata": {},
     "output_type": "execute_result"
    }
   ],
   "source": [
    "random_array_2"
   ]
  },
  {
   "cell_type": "code",
   "execution_count": 151,
   "id": "a8cfd43b",
   "metadata": {},
   "outputs": [
    {
     "data": {
      "text/plain": [
       "(5, 3)"
      ]
     },
     "execution_count": 151,
     "metadata": {},
     "output_type": "execute_result"
    }
   ],
   "source": [
    "random_array_2.shape"
   ]
  },
  {
   "cell_type": "code",
   "execution_count": 152,
   "id": "f30c9dcc",
   "metadata": {},
   "outputs": [
    {
     "data": {
      "text/plain": [
       "array([[0.70507037, 0.4628868 , 0.38679069],\n",
       "       [0.52843256, 0.82168992, 0.63847702],\n",
       "       [0.86288872, 0.63662654, 0.99929706],\n",
       "       [0.51778008, 0.32761664, 0.09877324],\n",
       "       [0.5667664 , 0.21520794, 0.01179079]])"
      ]
     },
     "execution_count": 152,
     "metadata": {},
     "output_type": "execute_result"
    }
   ],
   "source": [
    "random_array_3 = np.random.rand(5,3)\n",
    "random_array_3"
   ]
  },
  {
   "cell_type": "code",
   "execution_count": 153,
   "id": "f89a603c",
   "metadata": {},
   "outputs": [
    {
     "data": {
      "text/plain": [
       "array([[5, 0, 3],\n",
       "       [3, 7, 9],\n",
       "       [3, 5, 2],\n",
       "       [4, 7, 6],\n",
       "       [8, 8, 1]])"
      ]
     },
     "execution_count": 153,
     "metadata": {},
     "output_type": "execute_result"
    }
   ],
   "source": [
    "#Pseudo-random numbers\n",
    "np.random.seed(seed = 0)\n",
    "random_array_4 = np.random.randint(10, size = (5, 3))\n",
    "random_array_4"
   ]
  },
  {
   "cell_type": "code",
   "execution_count": 154,
   "id": "93b8f9b1",
   "metadata": {},
   "outputs": [
    {
     "data": {
      "text/plain": [
       "array([[0.07630829, 0.77991879, 0.43840923],\n",
       "       [0.72346518, 0.97798951, 0.53849587],\n",
       "       [0.50112046, 0.07205113, 0.26843898],\n",
       "       [0.4998825 , 0.67923   , 0.80373904],\n",
       "       [0.38094113, 0.06593635, 0.2881456 ]])"
      ]
     },
     "execution_count": 154,
     "metadata": {},
     "output_type": "execute_result"
    }
   ],
   "source": [
    "np.random.seed(7)\n",
    "random_array_5 = np.random.random((5, 3))\n",
    "random_array_5"
   ]
  },
  {
   "cell_type": "code",
   "execution_count": 155,
   "id": "bfabb52b",
   "metadata": {},
   "outputs": [
    {
     "data": {
      "text/plain": [
       "(5, 3)"
      ]
     },
     "execution_count": 155,
     "metadata": {},
     "output_type": "execute_result"
    }
   ],
   "source": [
    "random_array_4.shape"
   ]
  },
  {
   "cell_type": "markdown",
   "id": "85899511",
   "metadata": {},
   "source": [
    "## 3. Viewing Arrays and Matrices"
   ]
  },
  {
   "cell_type": "code",
   "execution_count": 156,
   "id": "f06d2729",
   "metadata": {},
   "outputs": [
    {
     "data": {
      "text/plain": [
       "array([0, 1, 2, 3, 4, 5, 6, 7, 8, 9])"
      ]
     },
     "execution_count": 156,
     "metadata": {},
     "output_type": "execute_result"
    }
   ],
   "source": [
    "np.unique(random_array_4)"
   ]
  },
  {
   "cell_type": "code",
   "execution_count": 157,
   "id": "66f1511e",
   "metadata": {},
   "outputs": [
    {
     "data": {
      "text/plain": [
       "array([1, 2, 3])"
      ]
     },
     "execution_count": 157,
     "metadata": {},
     "output_type": "execute_result"
    }
   ],
   "source": [
    "a1"
   ]
  },
  {
   "cell_type": "code",
   "execution_count": 158,
   "id": "a42cff76",
   "metadata": {},
   "outputs": [
    {
     "data": {
      "text/plain": [
       "array([[1. , 2. , 3.3],\n",
       "       [4. , 5. , 6.5]])"
      ]
     },
     "execution_count": 158,
     "metadata": {},
     "output_type": "execute_result"
    }
   ],
   "source": [
    "a2"
   ]
  },
  {
   "cell_type": "code",
   "execution_count": 159,
   "id": "02aac402",
   "metadata": {},
   "outputs": [
    {
     "data": {
      "text/plain": [
       "array([[[ 1,  2,  3],\n",
       "        [ 4,  5,  6],\n",
       "        [ 7,  8,  9]],\n",
       "\n",
       "       [[10, 11, 12],\n",
       "        [13, 14, 15],\n",
       "        [16, 17, 18]]])"
      ]
     },
     "execution_count": 159,
     "metadata": {},
     "output_type": "execute_result"
    }
   ],
   "source": [
    "a3"
   ]
  },
  {
   "cell_type": "code",
   "execution_count": 160,
   "id": "d817072d",
   "metadata": {},
   "outputs": [
    {
     "data": {
      "text/plain": [
       "1"
      ]
     },
     "execution_count": 160,
     "metadata": {},
     "output_type": "execute_result"
    }
   ],
   "source": [
    "a1[0]"
   ]
  },
  {
   "cell_type": "code",
   "execution_count": 161,
   "id": "d7a9d29b",
   "metadata": {},
   "outputs": [
    {
     "data": {
      "text/plain": [
       "array([1. , 2. , 3.3])"
      ]
     },
     "execution_count": 161,
     "metadata": {},
     "output_type": "execute_result"
    }
   ],
   "source": [
    "a2[0]"
   ]
  },
  {
   "cell_type": "code",
   "execution_count": 162,
   "id": "3858a5d1",
   "metadata": {},
   "outputs": [
    {
     "data": {
      "text/plain": [
       "array([[1, 2, 3],\n",
       "       [4, 5, 6],\n",
       "       [7, 8, 9]])"
      ]
     },
     "execution_count": 162,
     "metadata": {},
     "output_type": "execute_result"
    }
   ],
   "source": [
    "a3[0]"
   ]
  },
  {
   "cell_type": "code",
   "execution_count": 163,
   "id": "7a36efe2",
   "metadata": {},
   "outputs": [
    {
     "data": {
      "text/plain": [
       "array([4. , 5. , 6.5])"
      ]
     },
     "execution_count": 163,
     "metadata": {},
     "output_type": "execute_result"
    }
   ],
   "source": [
    "a2[1]"
   ]
  },
  {
   "cell_type": "code",
   "execution_count": 164,
   "id": "f5c12b3e",
   "metadata": {},
   "outputs": [
    {
     "data": {
      "text/plain": [
       "array([[[ 1,  2],\n",
       "        [ 4,  5]],\n",
       "\n",
       "       [[10, 11],\n",
       "        [13, 14]]])"
      ]
     },
     "execution_count": 164,
     "metadata": {},
     "output_type": "execute_result"
    }
   ],
   "source": [
    "a3[:2, :2, :2]"
   ]
  },
  {
   "cell_type": "code",
   "execution_count": 165,
   "id": "bf6f82e6",
   "metadata": {},
   "outputs": [],
   "source": [
    "a4 = np.random.randint(10, size =(2, 3, 4, 5))"
   ]
  },
  {
   "cell_type": "code",
   "execution_count": 166,
   "id": "4c87be7e",
   "metadata": {},
   "outputs": [
    {
     "data": {
      "text/plain": [
       "array([[[[3, 5, 8, 8, 7],\n",
       "         [5, 0, 0, 2, 8],\n",
       "         [9, 6, 4, 9, 7],\n",
       "         [3, 3, 8, 3, 0]],\n",
       "\n",
       "        [[1, 0, 0, 6, 7],\n",
       "         [7, 9, 3, 0, 7],\n",
       "         [7, 7, 0, 5, 4],\n",
       "         [3, 1, 3, 1, 3]],\n",
       "\n",
       "        [[4, 3, 1, 9, 5],\n",
       "         [9, 1, 2, 3, 2],\n",
       "         [2, 5, 7, 3, 0],\n",
       "         [9, 9, 3, 4, 5]]],\n",
       "\n",
       "\n",
       "       [[[3, 0, 4, 8, 6],\n",
       "         [7, 2, 7, 3, 8],\n",
       "         [6, 6, 5, 6, 5],\n",
       "         [7, 1, 5, 4, 4]],\n",
       "\n",
       "        [[9, 9, 0, 6, 2],\n",
       "         [6, 8, 2, 4, 1],\n",
       "         [6, 1, 5, 1, 6],\n",
       "         [9, 8, 6, 5, 9]],\n",
       "\n",
       "        [[7, 5, 4, 9, 6],\n",
       "         [8, 1, 5, 5, 8],\n",
       "         [3, 7, 7, 9, 4],\n",
       "         [7, 5, 9, 6, 2]]]])"
      ]
     },
     "execution_count": 166,
     "metadata": {},
     "output_type": "execute_result"
    }
   ],
   "source": [
    "a4"
   ]
  },
  {
   "cell_type": "code",
   "execution_count": 167,
   "id": "b6cd7082",
   "metadata": {},
   "outputs": [
    {
     "data": {
      "text/plain": [
       "((2, 3, 4, 5), 4)"
      ]
     },
     "execution_count": 167,
     "metadata": {},
     "output_type": "execute_result"
    }
   ],
   "source": [
    "a4.shape, a4.ndim"
   ]
  },
  {
   "cell_type": "code",
   "execution_count": 168,
   "id": "318ca8de",
   "metadata": {},
   "outputs": [
    {
     "data": {
      "text/plain": [
       "array([[[[3, 5],\n",
       "         [5, 0],\n",
       "         [9, 6],\n",
       "         [3, 3]],\n",
       "\n",
       "        [[1, 0],\n",
       "         [7, 9],\n",
       "         [7, 7],\n",
       "         [3, 1]],\n",
       "\n",
       "        [[4, 3],\n",
       "         [9, 1],\n",
       "         [2, 5],\n",
       "         [9, 9]]],\n",
       "\n",
       "\n",
       "       [[[3, 0],\n",
       "         [7, 2],\n",
       "         [6, 6],\n",
       "         [7, 1]],\n",
       "\n",
       "        [[9, 9],\n",
       "         [6, 8],\n",
       "         [6, 1],\n",
       "         [9, 8]],\n",
       "\n",
       "        [[7, 5],\n",
       "         [8, 1],\n",
       "         [3, 7],\n",
       "         [7, 5]]]])"
      ]
     },
     "execution_count": 168,
     "metadata": {},
     "output_type": "execute_result"
    }
   ],
   "source": [
    "#get the first 4 numbers of the iner most array\n",
    "a4[:, :, :, :2]"
   ]
  },
  {
   "cell_type": "markdown",
   "id": "f8ab6075",
   "metadata": {},
   "source": [
    "## 4. Manipulating & comparing arrays"
   ]
  },
  {
   "cell_type": "markdown",
   "id": "a949ad23",
   "metadata": {},
   "source": [
    "### Arithmetic"
   ]
  },
  {
   "cell_type": "code",
   "execution_count": 169,
   "id": "fe1ca92b",
   "metadata": {},
   "outputs": [
    {
     "data": {
      "text/plain": [
       "array([1, 2, 3])"
      ]
     },
     "execution_count": 169,
     "metadata": {},
     "output_type": "execute_result"
    }
   ],
   "source": [
    "a1\n"
   ]
  },
  {
   "cell_type": "code",
   "execution_count": 170,
   "id": "8d54337e",
   "metadata": {},
   "outputs": [
    {
     "data": {
      "text/plain": [
       "array([1., 1., 1.])"
      ]
     },
     "execution_count": 170,
     "metadata": {},
     "output_type": "execute_result"
    }
   ],
   "source": [
    "ones = np.ones(3)\n",
    "ones"
   ]
  },
  {
   "cell_type": "code",
   "execution_count": 171,
   "id": "7eabee34",
   "metadata": {},
   "outputs": [
    {
     "data": {
      "text/plain": [
       "array([2., 3., 4.])"
      ]
     },
     "execution_count": 171,
     "metadata": {},
     "output_type": "execute_result"
    }
   ],
   "source": [
    "a1 + ones"
   ]
  },
  {
   "cell_type": "code",
   "execution_count": 172,
   "id": "c80d4921",
   "metadata": {},
   "outputs": [
    {
     "data": {
      "text/plain": [
       "array([0., 1., 2.])"
      ]
     },
     "execution_count": 172,
     "metadata": {},
     "output_type": "execute_result"
    }
   ],
   "source": [
    "a1 - ones"
   ]
  },
  {
   "cell_type": "code",
   "execution_count": 173,
   "id": "b5484c14",
   "metadata": {},
   "outputs": [
    {
     "data": {
      "text/plain": [
       "array([1., 2., 3.])"
      ]
     },
     "execution_count": 173,
     "metadata": {},
     "output_type": "execute_result"
    }
   ],
   "source": [
    "a1 * ones"
   ]
  },
  {
   "cell_type": "code",
   "execution_count": 174,
   "id": "6d6e099d",
   "metadata": {},
   "outputs": [
    {
     "data": {
      "text/plain": [
       "array([[1. , 2. , 3.3],\n",
       "       [4. , 5. , 6.5]])"
      ]
     },
     "execution_count": 174,
     "metadata": {},
     "output_type": "execute_result"
    }
   ],
   "source": [
    "a2"
   ]
  },
  {
   "cell_type": "code",
   "execution_count": 175,
   "id": "e53fd0d9",
   "metadata": {},
   "outputs": [
    {
     "data": {
      "text/plain": [
       "array([[ 1. ,  4. ,  9.9],\n",
       "       [ 4. , 10. , 19.5]])"
      ]
     },
     "execution_count": 175,
     "metadata": {},
     "output_type": "execute_result"
    }
   ],
   "source": [
    "a1 * a2"
   ]
  },
  {
   "cell_type": "code",
   "execution_count": 176,
   "id": "d52f73e0",
   "metadata": {},
   "outputs": [
    {
     "data": {
      "text/plain": [
       "array([[[ 1,  2,  3],\n",
       "        [ 4,  5,  6],\n",
       "        [ 7,  8,  9]],\n",
       "\n",
       "       [[10, 11, 12],\n",
       "        [13, 14, 15],\n",
       "        [16, 17, 18]]])"
      ]
     },
     "execution_count": 176,
     "metadata": {},
     "output_type": "execute_result"
    }
   ],
   "source": [
    "a3"
   ]
  },
  {
   "cell_type": "code",
   "execution_count": 177,
   "id": "e0d3e928",
   "metadata": {},
   "outputs": [
    {
     "ename": "ValueError",
     "evalue": "operands could not be broadcast together with shapes (2,3,3) (2,3) ",
     "output_type": "error",
     "traceback": [
      "\u001b[1;31m---------------------------------------------------------------------------\u001b[0m",
      "\u001b[1;31mValueError\u001b[0m                                Traceback (most recent call last)",
      "Input \u001b[1;32mIn [177]\u001b[0m, in \u001b[0;36m<cell line: 3>\u001b[1;34m()\u001b[0m\n\u001b[0;32m      1\u001b[0m \u001b[38;5;66;03m# how can you reshape a2 to be compatible with a3?\u001b[39;00m\n\u001b[0;32m      2\u001b[0m \u001b[38;5;66;03m# search \"how to reshape numpy array\"\u001b[39;00m\n\u001b[1;32m----> 3\u001b[0m \u001b[43ma3\u001b[49m\u001b[43m \u001b[49m\u001b[38;5;241;43m*\u001b[39;49m\u001b[43m \u001b[49m\u001b[43ma2\u001b[49m\n",
      "\u001b[1;31mValueError\u001b[0m: operands could not be broadcast together with shapes (2,3,3) (2,3) "
     ]
    }
   ],
   "source": [
    "# how can you reshape a2 to be compatible with a3?\n",
    "# search \"how to reshape numpy array\"\n",
    "a3 * a2"
   ]
  },
  {
   "cell_type": "code",
   "execution_count": null,
   "id": "4354d75c",
   "metadata": {},
   "outputs": [],
   "source": [
    "a1 / ones"
   ]
  },
  {
   "cell_type": "code",
   "execution_count": null,
   "id": "89eca204",
   "metadata": {},
   "outputs": [],
   "source": [
    "\n",
    "# floor division removes the decimals(round down)\n",
    "a2 // a1"
   ]
  },
  {
   "cell_type": "code",
   "execution_count": null,
   "id": "2112aa8b",
   "metadata": {},
   "outputs": [],
   "source": [
    "a2 ** 2"
   ]
  },
  {
   "cell_type": "code",
   "execution_count": null,
   "id": "695b7d55",
   "metadata": {},
   "outputs": [],
   "source": [
    "np.square(a2)"
   ]
  },
  {
   "cell_type": "code",
   "execution_count": null,
   "id": "4b49c754",
   "metadata": {},
   "outputs": [],
   "source": [
    "a1 % 2"
   ]
  },
  {
   "cell_type": "code",
   "execution_count": null,
   "id": "6c7da1dc",
   "metadata": {},
   "outputs": [],
   "source": [
    "a2 % 2"
   ]
  },
  {
   "cell_type": "code",
   "execution_count": null,
   "id": "dfe353ea",
   "metadata": {},
   "outputs": [],
   "source": [
    "np.exp(a1)"
   ]
  },
  {
   "cell_type": "code",
   "execution_count": null,
   "id": "7b230e9f",
   "metadata": {},
   "outputs": [],
   "source": [
    "np.log(a1)"
   ]
  },
  {
   "cell_type": "markdown",
   "id": "fe5eb436",
   "metadata": {},
   "source": [
    "## Aggregation"
   ]
  },
  {
   "cell_type": "markdown",
   "id": "f171ece0",
   "metadata": {},
   "source": [
    "#  Aggregation = performing the same operation on a number of things"
   ]
  },
  {
   "cell_type": "code",
   "execution_count": null,
   "id": "b932b979",
   "metadata": {},
   "outputs": [],
   "source": [
    "listy_list = [1, 2, 3]\n",
    "type(listy_list)"
   ]
  },
  {
   "cell_type": "code",
   "execution_count": null,
   "id": "9d787ae5",
   "metadata": {},
   "outputs": [],
   "source": [
    "sum(listy_list)"
   ]
  },
  {
   "cell_type": "code",
   "execution_count": null,
   "id": "23f267f1",
   "metadata": {},
   "outputs": [],
   "source": [
    "a1"
   ]
  },
  {
   "cell_type": "code",
   "execution_count": null,
   "id": "d938426c",
   "metadata": {},
   "outputs": [],
   "source": [
    "sum(a1)"
   ]
  },
  {
   "cell_type": "code",
   "execution_count": null,
   "id": "0f23dc3c",
   "metadata": {},
   "outputs": [],
   "source": [
    "np.sum(a1)"
   ]
  },
  {
   "cell_type": "markdown",
   "id": "f16fde9b",
   "metadata": {},
   "source": [
    "#  use python's method (`sum()`) on python datatypes and use \n",
    "# Numpy's methods on Numpy Arrays (`np.sum())"
   ]
  },
  {
   "cell_type": "code",
   "execution_count": null,
   "id": "adaef0c0",
   "metadata": {},
   "outputs": [],
   "source": [
    "# creative a massive Numpy array\n",
    "massive_array  = np.random.random(100000)\n",
    "massive_array"
   ]
  },
  {
   "cell_type": "code",
   "execution_count": null,
   "id": "a1d71e28",
   "metadata": {},
   "outputs": [],
   "source": [
    "massive_array[:10\n",
    "             ]"
   ]
  },
  {
   "cell_type": "code",
   "execution_count": null,
   "id": "f742d203",
   "metadata": {},
   "outputs": [],
   "source": [
    "%timeit sum(massive_array)# Python's sum()\n",
    "%timeit np.sum(massive_array) # Numpy np.sum"
   ]
  },
  {
   "cell_type": "code",
   "execution_count": null,
   "id": "05020b82",
   "metadata": {},
   "outputs": [],
   "source": [
    "# this how much faster than python\n",
    "17900 / 34"
   ]
  },
  {
   "cell_type": "code",
   "execution_count": null,
   "id": "0bfa9e0f",
   "metadata": {},
   "outputs": [],
   "source": [
    "a2 "
   ]
  },
  {
   "cell_type": "code",
   "execution_count": null,
   "id": "f8037c21",
   "metadata": {},
   "outputs": [],
   "source": [
    "np.mean(a2)"
   ]
  },
  {
   "cell_type": "code",
   "execution_count": null,
   "id": "7ad89dec",
   "metadata": {},
   "outputs": [],
   "source": [
    "np.max(a2)"
   ]
  },
  {
   "cell_type": "code",
   "execution_count": null,
   "id": "3e6da6e9",
   "metadata": {},
   "outputs": [],
   "source": [
    "np.min(a2)"
   ]
  },
  {
   "cell_type": "code",
   "execution_count": null,
   "id": "b0b62513",
   "metadata": {},
   "outputs": [],
   "source": [
    "# Standard deviation = a measure of how spread out a groups of numbers is far apart\n",
    "np.std(a2)"
   ]
  },
  {
   "cell_type": "code",
   "execution_count": null,
   "id": "ec241b39",
   "metadata": {},
   "outputs": [],
   "source": [
    "# variance = measure of the average degree to which each number is different to the mean\n",
    "#Higher variance = wider range of numbers\n",
    "# lower variance = lower range of the number.\n",
    "np.var(a2)"
   ]
  },
  {
   "cell_type": "code",
   "execution_count": null,
   "id": "dc221ee3",
   "metadata": {},
   "outputs": [],
   "source": [
    "#standard deviation = sqre root of variance\n",
    "np.sqrt(np.var(a2))\n"
   ]
  },
  {
   "cell_type": "code",
   "execution_count": null,
   "id": "d5efb254",
   "metadata": {},
   "outputs": [],
   "source": [
    "#Demo of std and var\n",
    "high_var_array = np.array([1, 100, 200, 300, 4000, 5000])\n",
    "low_var_array =np.array([2, 4, 6, 8, 10])"
   ]
  },
  {
   "cell_type": "code",
   "execution_count": null,
   "id": "e9172b42",
   "metadata": {},
   "outputs": [],
   "source": [
    "np.var(high_var_array), np.var(low_var_array)"
   ]
  },
  {
   "cell_type": "code",
   "execution_count": null,
   "id": "eeed1b5c",
   "metadata": {},
   "outputs": [],
   "source": [
    "np.std(high_var_array), np.std(low_var_array)"
   ]
  },
  {
   "cell_type": "code",
   "execution_count": null,
   "id": "c849fc42",
   "metadata": {},
   "outputs": [],
   "source": [
    "np.mean(high_var_array), np.mean(low_var_array)"
   ]
  },
  {
   "cell_type": "code",
   "execution_count": null,
   "id": "c6b7360d",
   "metadata": {},
   "outputs": [],
   "source": [
    "%matplotlib inline\n",
    "import matplotlib.pyplot as plt\n",
    "plt.hist(high_var_array)\n",
    "plt.show()"
   ]
  },
  {
   "cell_type": "code",
   "execution_count": null,
   "id": "10434a55",
   "metadata": {},
   "outputs": [],
   "source": [
    "plt.hist(low_var_array)\n",
    "plt.show"
   ]
  },
  {
   "cell_type": "markdown",
   "id": "a7187dd0",
   "metadata": {},
   "source": [
    "### Reshaping & transposing"
   ]
  },
  {
   "cell_type": "code",
   "execution_count": null,
   "id": "ae95e437",
   "metadata": {},
   "outputs": [],
   "source": [
    "a2\n"
   ]
  },
  {
   "cell_type": "code",
   "execution_count": null,
   "id": "bdc811a4",
   "metadata": {},
   "outputs": [],
   "source": [
    "a2"
   ]
  },
  {
   "cell_type": "code",
   "execution_count": null,
   "id": "5b515473",
   "metadata": {},
   "outputs": [],
   "source": [
    "a3"
   ]
  },
  {
   "cell_type": "code",
   "execution_count": null,
   "id": "4aa92aa6",
   "metadata": {},
   "outputs": [],
   "source": [
    "a2 * a3"
   ]
  },
  {
   "cell_type": "code",
   "execution_count": null,
   "id": "a3d5343f",
   "metadata": {},
   "outputs": [],
   "source": [
    "a2.reshape(2,3,1).shape"
   ]
  },
  {
   "cell_type": "code",
   "execution_count": null,
   "id": "4a6e3c69",
   "metadata": {},
   "outputs": [],
   "source": [
    "a2_reshape = a2.reshape(2,3,1)\n",
    "a2_reshape"
   ]
  },
  {
   "cell_type": "code",
   "execution_count": null,
   "id": "2868552f",
   "metadata": {},
   "outputs": [],
   "source": [
    "a2_reshape * a3"
   ]
  },
  {
   "cell_type": "code",
   "execution_count": null,
   "id": "e969d610",
   "metadata": {},
   "outputs": [],
   "source": [
    "# transpose\n",
    "a2.T"
   ]
  },
  {
   "cell_type": "code",
   "execution_count": null,
   "id": "14bf4215",
   "metadata": {},
   "outputs": [],
   "source": [
    "a2.T.shape"
   ]
  },
  {
   "cell_type": "code",
   "execution_count": null,
   "id": "8cf888cb",
   "metadata": {},
   "outputs": [],
   "source": [
    "a3.shape\n"
   ]
  },
  {
   "cell_type": "code",
   "execution_count": null,
   "id": "ea0d3964",
   "metadata": {},
   "outputs": [],
   "source": [
    "a3.T.shape"
   ]
  },
  {
   "cell_type": "markdown",
   "id": "58649aab",
   "metadata": {},
   "source": [
    "## Dot product"
   ]
  },
  {
   "cell_type": "code",
   "execution_count": null,
   "id": "0ab936a3",
   "metadata": {},
   "outputs": [],
   "source": [
    "np.random.seed(0)\n",
    "mat1 = np.random.randint(10, size=(5, 3))\n",
    "mat2 = np.random.randint(10, size=(5, 3))\n",
    "\n",
    "mat1"
   ]
  },
  {
   "cell_type": "code",
   "execution_count": null,
   "id": "1ea4a09e",
   "metadata": {},
   "outputs": [],
   "source": [
    "mat2"
   ]
  },
  {
   "cell_type": "code",
   "execution_count": null,
   "id": "4037bb57",
   "metadata": {},
   "outputs": [],
   "source": [
    "mat1.shape, mat2.shape"
   ]
  },
  {
   "cell_type": "code",
   "execution_count": null,
   "id": "37cd708b",
   "metadata": {},
   "outputs": [],
   "source": [
    "# element_wise multiplication(hadamard product)\n",
    "mat1 * mat2"
   ]
  },
  {
   "cell_type": "code",
   "execution_count": null,
   "id": "0fb00a37",
   "metadata": {},
   "outputs": [],
   "source": [
    "# dot product\n",
    "np.dot(mat1, mat2)"
   ]
  },
  {
   "cell_type": "code",
   "execution_count": null,
   "id": "51acb5b4",
   "metadata": {},
   "outputs": [],
   "source": [
    "# transpose mat1\n",
    "mat1.T"
   ]
  },
  {
   "cell_type": "code",
   "execution_count": null,
   "id": "abf00fa7",
   "metadata": {},
   "outputs": [],
   "source": [
    "mat2.shape"
   ]
  },
  {
   "cell_type": "code",
   "execution_count": null,
   "id": "2f09664a",
   "metadata": {},
   "outputs": [],
   "source": [
    "mat2.shape, mat1.T.shape\n"
   ]
  },
  {
   "cell_type": "code",
   "execution_count": null,
   "id": "86e567b4",
   "metadata": {},
   "outputs": [],
   "source": [
    "mat1.shape, mat2.T.shape"
   ]
  },
  {
   "cell_type": "code",
   "execution_count": null,
   "id": "400959d3",
   "metadata": {},
   "outputs": [],
   "source": [
    "mat3 = np.dot(mat1, mat2.T)"
   ]
  },
  {
   "cell_type": "code",
   "execution_count": null,
   "id": "09a4de3c",
   "metadata": {},
   "outputs": [],
   "source": [
    "mat3"
   ]
  },
  {
   "cell_type": "code",
   "execution_count": null,
   "id": "0b7ba270",
   "metadata": {},
   "outputs": [],
   "source": [
    "mat3.shape"
   ]
  },
  {
   "cell_type": "code",
   "execution_count": null,
   "id": "47aeb1fd",
   "metadata": {},
   "outputs": [],
   "source": [
    "## Dot product example (nut butter sales)\n",
    "np.random.seed(0)\n",
    "# Number of jars sold\n",
    "sales_amounts = np.random.randint(20, size=(5,3))\n",
    "sales_amounts"
   ]
  },
  {
   "cell_type": "code",
   "execution_count": null,
   "id": "4f8d0ce6",
   "metadata": {},
   "outputs": [],
   "source": [
    "#create weekly_sales DatRAME\n",
    "weekly_sales = pd.DataFrame(sales_amounts, \n",
    "                            index=[\"Mon\", \"Tues\", \"Wed\", \"Thurs\", \"Fri\"], \n",
    "                            columns=[\"Almond butter\", \"Peanut butter\", \"Cashew butter\"])\n",
    "weekly_sales"
   ]
  },
  {
   "cell_type": "code",
   "execution_count": null,
   "id": "65f9e643",
   "metadata": {},
   "outputs": [],
   "source": [
    "# create the prices\n",
    "prices =np.array([10, 8, 12])\n",
    "prices"
   ]
  },
  {
   "cell_type": "code",
   "execution_count": null,
   "id": "5e805aeb",
   "metadata": {},
   "outputs": [],
   "source": [
    "prices.shape"
   ]
  },
  {
   "cell_type": "code",
   "execution_count": null,
   "id": "ed9602e9",
   "metadata": {},
   "outputs": [],
   "source": [
    "#create dagtafrome prices\n",
    "butter_prices = pd.DataFrame(prices.reshape(1, 3),\n",
    "                             index=[\"prices\"],\n",
    "                             columns=[\"Almond butter\", \"Peanut butter\", \"Cashew butter\"])\n",
    "butter_prices"
   ]
  },
  {
   "cell_type": "code",
   "execution_count": null,
   "id": "b8e0e934",
   "metadata": {},
   "outputs": [],
   "source": [
    "total_sales = prices.dot(sales_amounts)"
   ]
  },
  {
   "cell_type": "code",
   "execution_count": null,
   "id": "a6a0416e",
   "metadata": {},
   "outputs": [],
   "source": [
    "# shape not aligne\n",
    "total_sales = prices.dot(sales_amounts.T)\n",
    "total_sales"
   ]
  },
  {
   "cell_type": "code",
   "execution_count": null,
   "id": "ebcf7c4f",
   "metadata": {},
   "outputs": [],
   "source": [
    "# create daily sales\n",
    "butter_prices.shape, weekly_sales.shape"
   ]
  },
  {
   "cell_type": "code",
   "execution_count": null,
   "id": "f75f6065",
   "metadata": {},
   "outputs": [],
   "source": [
    "weekly_sales.T.shape"
   ]
  },
  {
   "cell_type": "code",
   "execution_count": null,
   "id": "7a819849",
   "metadata": {},
   "outputs": [],
   "source": [
    "daily_sales = butter_prices.dot(weekly_sales.T)\n",
    "daily_sales.shape"
   ]
  },
  {
   "cell_type": "code",
   "execution_count": null,
   "id": "bb0db9f2",
   "metadata": {},
   "outputs": [],
   "source": [
    "weekly_sales.shape"
   ]
  },
  {
   "cell_type": "code",
   "execution_count": null,
   "id": "adee84db",
   "metadata": {},
   "outputs": [],
   "source": [
    "weekly_sales"
   ]
  },
  {
   "cell_type": "code",
   "execution_count": null,
   "id": "56a2c9d8",
   "metadata": {},
   "outputs": [],
   "source": [
    "weekly_sales[\"Total ($)\"] = daily_sales.T\n",
    "weekly_sales"
   ]
  },
  {
   "cell_type": "code",
   "execution_count": null,
   "id": "5af92466",
   "metadata": {},
   "outputs": [],
   "source": [
    "weekly_sales[\"Total ($)\"] = daily_sales.T\n",
    "weekly_sales"
   ]
  },
  {
   "cell_type": "markdown",
   "id": "d30be368",
   "metadata": {},
   "source": [
    "### Comparison Operators"
   ]
  },
  {
   "cell_type": "code",
   "execution_count": null,
   "id": "70b06272",
   "metadata": {},
   "outputs": [],
   "source": [
    "a2"
   ]
  },
  {
   "cell_type": "code",
   "execution_count": null,
   "id": "f0d1aedc",
   "metadata": {},
   "outputs": [],
   "source": [
    "a1 > a2"
   ]
  },
  {
   "cell_type": "code",
   "execution_count": null,
   "id": "3fd80093",
   "metadata": {},
   "outputs": [],
   "source": [
    "bool_array = a1 >= a2\n",
    "bool_array"
   ]
  },
  {
   "cell_type": "code",
   "execution_count": null,
   "id": "b6eb09a1",
   "metadata": {},
   "outputs": [],
   "source": [
    "type(bool_array), bool_array.dtype"
   ]
  },
  {
   "cell_type": "code",
   "execution_count": null,
   "id": "1d7ad33d",
   "metadata": {},
   "outputs": [],
   "source": [
    "a1 > 5 "
   ]
  },
  {
   "cell_type": "code",
   "execution_count": null,
   "id": "8373de1b",
   "metadata": {},
   "outputs": [],
   "source": [
    "a1 < 5"
   ]
  },
  {
   "cell_type": "code",
   "execution_count": null,
   "id": "d4aee2b7",
   "metadata": {},
   "outputs": [],
   "source": [
    "a1 == a1"
   ]
  },
  {
   "cell_type": "code",
   "execution_count": null,
   "id": "05d152b0",
   "metadata": {},
   "outputs": [],
   "source": []
  },
  {
   "cell_type": "markdown",
   "id": "9ab3f675",
   "metadata": {},
   "source": [
    "## 5. sorting array"
   ]
  },
  {
   "cell_type": "markdown",
   "id": "9265c4b4",
   "metadata": {},
   "source": [
    "random_array = np.random.randint(10 , size=(3, 5))"
   ]
  },
  {
   "cell_type": "code",
   "execution_count": null,
   "id": "194f9b10",
   "metadata": {},
   "outputs": [],
   "source": [
    "random_array = np.random.randint(10 , size=(3, 5))\n",
    "random_array"
   ]
  },
  {
   "cell_type": "code",
   "execution_count": null,
   "id": "8811cace",
   "metadata": {},
   "outputs": [],
   "source": [
    "random_array.shape\n"
   ]
  },
  {
   "cell_type": "code",
   "execution_count": null,
   "id": "a71e0496",
   "metadata": {},
   "outputs": [],
   "source": [
    "np.sort(random_array)"
   ]
  },
  {
   "cell_type": "code",
   "execution_count": null,
   "id": "593ba2af",
   "metadata": {},
   "outputs": [],
   "source": [
    "np.argsort(random_array)"
   ]
  },
  {
   "cell_type": "code",
   "execution_count": null,
   "id": "a2fd3b32",
   "metadata": {},
   "outputs": [],
   "source": [
    "np.argsort(a1)"
   ]
  },
  {
   "cell_type": "code",
   "execution_count": null,
   "id": "5bb83618",
   "metadata": {},
   "outputs": [],
   "source": [
    "np.argmin(a1)"
   ]
  },
  {
   "cell_type": "code",
   "execution_count": null,
   "id": "f12aeb71",
   "metadata": {},
   "outputs": [],
   "source": [
    "np.argmax(a1)"
   ]
  },
  {
   "cell_type": "code",
   "execution_count": null,
   "id": "c0bb562f",
   "metadata": {},
   "outputs": [],
   "source": [
    "random_array"
   ]
  },
  {
   "cell_type": "code",
   "execution_count": null,
   "id": "2a9a4a26",
   "metadata": {},
   "outputs": [],
   "source": [
    "np.argmax(random_array, axis=0)"
   ]
  },
  {
   "cell_type": "markdown",
   "id": "15c447f0",
   "metadata": {},
   "source": [
    "## 6. Practical Example - Numpy in action!!!"
   ]
  },
  {
   "attachments": {},
   "cell_type": "markdown",
   "id": "c6da9ff9",
   "metadata": {},
   "source": [
    "\n",
    "<img src=\"panda.png\">\n",
    "![panda.png](attachment:panda.png)\n"
   ]
  },
  {
   "cell_type": "markdown",
   "id": "68756d9f",
   "metadata": {},
   "source": [
    "# Turn an image into a NumPy array\n",
    "\n",
    "\n"
   ]
  },
  {
   "cell_type": "code",
   "execution_count": 188,
   "id": "ac88caa3",
   "metadata": {},
   "outputs": [
    {
     "name": "stdout",
     "output_type": "stream",
     "text": [
      "<class 'numpy.ndarray'>\n"
     ]
    }
   ],
   "source": [
    "from matplotlib.image import imread\n",
    "\n",
    "panda = imread('panda.png')\n",
    "print(type(panda))\n"
   ]
  },
  {
   "cell_type": "code",
   "execution_count": 189,
   "id": "25344e52",
   "metadata": {},
   "outputs": [
    {
     "data": {
      "text/plain": [
       "(2330, 3500, 3)"
      ]
     },
     "execution_count": 189,
     "metadata": {},
     "output_type": "execute_result"
    }
   ],
   "source": [
    "panda.shape"
   ]
  },
  {
   "cell_type": "code",
   "execution_count": 191,
   "id": "1818f932",
   "metadata": {},
   "outputs": [
    {
     "data": {
      "text/plain": [
       "(24465000, (2330, 3500, 3), 3)"
      ]
     },
     "execution_count": 191,
     "metadata": {},
     "output_type": "execute_result"
    }
   ],
   "source": [
    "panda.size, panda.shape, panda.ndim\n"
   ]
  },
  {
   "cell_type": "code",
   "execution_count": 192,
   "id": "c6cf736b",
   "metadata": {},
   "outputs": [
    {
     "data": {
      "text/plain": [
       "array([[[0.05490196, 0.10588235, 0.06666667],\n",
       "        [0.05490196, 0.10588235, 0.06666667],\n",
       "        [0.05490196, 0.10588235, 0.06666667],\n",
       "        ...,\n",
       "        [0.16470589, 0.12941177, 0.09411765],\n",
       "        [0.16470589, 0.12941177, 0.09411765],\n",
       "        [0.16470589, 0.12941177, 0.09411765]],\n",
       "\n",
       "       [[0.05490196, 0.10588235, 0.06666667],\n",
       "        [0.05490196, 0.10588235, 0.06666667],\n",
       "        [0.05490196, 0.10588235, 0.06666667],\n",
       "        ...,\n",
       "        [0.16470589, 0.12941177, 0.09411765],\n",
       "        [0.16470589, 0.12941177, 0.09411765],\n",
       "        [0.16470589, 0.12941177, 0.09411765]],\n",
       "\n",
       "       [[0.05490196, 0.10588235, 0.06666667],\n",
       "        [0.05490196, 0.10588235, 0.06666667],\n",
       "        [0.05490196, 0.10588235, 0.06666667],\n",
       "        ...,\n",
       "        [0.16470589, 0.12941177, 0.09411765],\n",
       "        [0.16470589, 0.12941177, 0.09411765],\n",
       "        [0.16470589, 0.12941177, 0.09411765]],\n",
       "\n",
       "       [[0.05490196, 0.10588235, 0.06666667],\n",
       "        [0.05490196, 0.10588235, 0.06666667],\n",
       "        [0.05490196, 0.10588235, 0.06666667],\n",
       "        ...,\n",
       "        [0.16862746, 0.13333334, 0.09803922],\n",
       "        [0.16862746, 0.13333334, 0.09803922],\n",
       "        [0.16862746, 0.13333334, 0.09803922]],\n",
       "\n",
       "       [[0.05490196, 0.10588235, 0.06666667],\n",
       "        [0.05490196, 0.10588235, 0.06666667],\n",
       "        [0.05490196, 0.10588235, 0.06666667],\n",
       "        ...,\n",
       "        [0.16862746, 0.13333334, 0.09803922],\n",
       "        [0.16862746, 0.13333334, 0.09803922],\n",
       "        [0.16862746, 0.13333334, 0.09803922]]], dtype=float32)"
      ]
     },
     "execution_count": 192,
     "metadata": {},
     "output_type": "execute_result"
    }
   ],
   "source": [
    "panda[:5]"
   ]
  },
  {
   "cell_type": "markdown",
   "id": "610137b0",
   "metadata": {},
   "source": [
    "<img src=\"car-photo.png\">/"
   ]
  },
  {
   "cell_type": "code",
   "execution_count": 193,
   "id": "9be5499f",
   "metadata": {},
   "outputs": [
    {
     "name": "stdout",
     "output_type": "stream",
     "text": [
      "<class 'numpy.ndarray'>\n"
     ]
    }
   ],
   "source": [
    "car = imread(\"car-photo.png\")\n",
    "print(type(car))"
   ]
  },
  {
   "cell_type": "code",
   "execution_count": 195,
   "id": "a7b5cc0c",
   "metadata": {},
   "outputs": [
    {
     "data": {
      "text/plain": [
       "array([[[0.5019608 , 0.50980395, 0.4862745 , 1.        ],\n",
       "        [0.3372549 , 0.34509805, 0.30588236, 1.        ],\n",
       "        [0.20392157, 0.21568628, 0.14901961, 1.        ],\n",
       "        ...,\n",
       "        [0.64705884, 0.7058824 , 0.54901963, 1.        ],\n",
       "        [0.59607846, 0.63529414, 0.45882353, 1.        ],\n",
       "        [0.44705883, 0.47058824, 0.3372549 , 1.        ]],\n",
       "\n",
       "       [[0.44313726, 0.43529412, 0.40392157, 1.        ],\n",
       "        [0.3137255 , 0.31764707, 0.27450982, 1.        ],\n",
       "        [0.2       , 0.21176471, 0.14117648, 1.        ],\n",
       "        ...,\n",
       "        [0.5058824 , 0.5372549 , 0.4117647 , 1.        ],\n",
       "        [0.49803922, 0.52156866, 0.39607844, 1.        ],\n",
       "        [0.4       , 0.42745098, 0.34117648, 1.        ]],\n",
       "\n",
       "       [[0.39607844, 0.38039216, 0.34117648, 1.        ],\n",
       "        [0.31764707, 0.3137255 , 0.27450982, 1.        ],\n",
       "        [0.28627452, 0.29411766, 0.24705882, 1.        ],\n",
       "        ...,\n",
       "        [0.44705883, 0.45882353, 0.32156864, 1.        ],\n",
       "        [0.45882353, 0.48235294, 0.3529412 , 1.        ],\n",
       "        [0.4509804 , 0.49019608, 0.38039216, 1.        ]]], dtype=float32)"
      ]
     },
     "execution_count": 195,
     "metadata": {},
     "output_type": "execute_result"
    }
   ],
   "source": [
    "car[:3]\n"
   ]
  },
  {
   "cell_type": "markdown",
   "id": "d14ecd36",
   "metadata": {},
   "source": [
    "<image src=\"dog-photo.png\"/>"
   ]
  },
  {
   "cell_type": "markdown",
   "id": "d307bd80",
   "metadata": {},
   "source": [
    "<img src=\"dog-photo.png\"/>"
   ]
  },
  {
   "cell_type": "code",
   "execution_count": 199,
   "id": "0a710905",
   "metadata": {},
   "outputs": [
    {
     "name": "stdout",
     "output_type": "stream",
     "text": [
      "<class 'numpy.ndarray'>\n"
     ]
    }
   ],
   "source": [
    "dog = imread(\"dog-photo.png\")\n",
    "print(type(dog))"
   ]
  },
  {
   "cell_type": "code",
   "execution_count": 200,
   "id": "7bf7f985",
   "metadata": {},
   "outputs": [
    {
     "data": {
      "text/plain": [
       "array([[[0.5019608 , 0.50980395, 0.4862745 , 1.        ],\n",
       "        [0.3372549 , 0.34509805, 0.30588236, 1.        ],\n",
       "        [0.20392157, 0.21568628, 0.14901961, 1.        ],\n",
       "        ...,\n",
       "        [0.64705884, 0.7058824 , 0.54901963, 1.        ],\n",
       "        [0.59607846, 0.63529414, 0.45882353, 1.        ],\n",
       "        [0.44705883, 0.47058824, 0.3372549 , 1.        ]]], dtype=float32)"
      ]
     },
     "execution_count": 200,
     "metadata": {},
     "output_type": "execute_result"
    }
   ],
   "source": [
    "car[:1\n",
    "   ]"
   ]
  },
  {
   "cell_type": "code",
   "execution_count": null,
   "id": "8b0b7c04",
   "metadata": {},
   "outputs": [],
   "source": []
  }
 ],
 "metadata": {
  "kernelspec": {
   "display_name": "Python 3 (ipykernel)",
   "language": "python",
   "name": "python3"
  },
  "language_info": {
   "codemirror_mode": {
    "name": "ipython",
    "version": 3
   },
   "file_extension": ".py",
   "mimetype": "text/x-python",
   "name": "python",
   "nbconvert_exporter": "python",
   "pygments_lexer": "ipython3",
   "version": "3.10.4"
  }
 },
 "nbformat": 4,
 "nbformat_minor": 5
}
